{
 "cells": [
  {
   "cell_type": "markdown",
   "id": "eaf5b32a",
   "metadata": {},
   "source": [
    "# Mochila Dinâmica"
   ]
  },
  {
   "cell_type": "code",
   "execution_count": 8,
   "id": "d385d66c",
   "metadata": {},
   "outputs": [],
   "source": [
    "class Produto():\n",
    "\n",
    "    def __init__(self, peso, valor, nome, qnt=1):\n",
    "        self.peso = peso\n",
    "        self.valor = valor\n",
    "        self.nome = nome\n",
    "        self.qnt = qnt"
   ]
  },
  {
   "cell_type": "markdown",
   "id": "e33ea7d7",
   "metadata": {},
   "source": [
    "!['imagem;'](./image.png)"
   ]
  },
  {
   "cell_type": "code",
   "execution_count": 9,
   "id": "b4ab3ebc",
   "metadata": {},
   "outputs": [],
   "source": [
    "class Mochila():\n",
    "\n",
    "    def __init__(self, capacidade):\n",
    "        self.capacidade = capacidade\n",
    "        self.lucro = 0\n",
    "        self.produtosTodos = [Produto(0,0,0)]\n",
    "        self.produtosSelecionados = []\n",
    "        self.capacidadeRestante = capacidade\n",
    "        self.tabela = [\n",
    "            {\n",
    "                'produto':self.produtosTodos[0], \n",
    "                'pesos':[0 for i in range(self.capacidade+1)]\n",
    "            }\n",
    "        ] \n",
    "\n",
    "    def sequencia(self):\n",
    "        self.separaItens()\n",
    "        self.ordenaProdutos()\n",
    "        self.montaTabela()\n",
    "        self.selecionaProdutos()\n",
    "        self.apresentaResultados()\n",
    "\n",
    "    def separaItens(self):\n",
    "        limite = len(self.produtosTodos)\n",
    "        for i in range(limite):\n",
    "            while( self.produtosTodos[i].qnt > 1 ):\n",
    "                self.produtosTodos.append( \n",
    "                    Produto(peso=self.produtosTodos[i].peso, valor=self.produtosTodos[i].valor, nome=self.produtosTodos[i].nome)\n",
    "                )\n",
    "                self.produtosTodos[i].qnt -= 1\n",
    "    \n",
    "    def ordenaProdutos(self):\n",
    "        self.produtosTodos = sorted(self.produtosTodos, key=lambda x: x.peso)\n",
    "\n",
    "    def adicionaProduto(self, produto):\n",
    "        self.produtosTodos.append(produto)\n",
    "\n",
    "    def montaTabela(self):\n",
    "        for i in range(1, len(self.produtosTodos)):\n",
    "            novo = {\n",
    "                'produto': self.produtosTodos[i],\n",
    "                'pesos': [0 for k in range(self.capacidade+1)]\n",
    "            }\n",
    "            for j in range(1, self.capacidade+1):\n",
    "                if novo['produto'].peso <= j:\n",
    "                    total = (novo['produto'].valor)\n",
    "\n",
    "                    if (j - novo['produto'].peso) > 0:\n",
    "                        total = total + self.tabela[i-1]['pesos'][ j-novo['produto'].peso ]\n",
    "                \n",
    "                    if total < self.tabela[i-1]['pesos'][j]:\n",
    "                        total = self.tabela[i-1]['pesos'][j]\n",
    "\n",
    "\n",
    "                    novo['pesos'][j] = total\n",
    "\n",
    "                else:\n",
    "                    novo['pesos'][j] = self.tabela[i-1]['pesos'][j]\n",
    "\n",
    "            self.tabela.append(novo)\n",
    "\n",
    "    def apresentaTabela(self):\n",
    "\n",
    "        print('Valores na tabela:')\n",
    "\n",
    "        print('    ', end='')\n",
    "\n",
    "        for j in range(self.capacidade + 1):\n",
    "            print(f'|  {j}  ', end='')\n",
    "\n",
    "        print('|')\n",
    "\n",
    "        for i in self.tabela:\n",
    "            print(f\"{i['produto'].peso}   |\", end='')\n",
    "\n",
    "            count = 0\n",
    "            for k in i['pesos']:\n",
    "\n",
    "                print(f'  {k}', end='')\n",
    "                \n",
    "                \n",
    "                if count > 9:\n",
    "                    print(' ', end='')\n",
    "                \n",
    "                if k < 10:\n",
    "                    print('  ', end='')\n",
    "                elif k >= 10 and k < 100:\n",
    "                    print(' ', end='')\n",
    "               \n",
    "                \n",
    "                print('|', end='')\n",
    "                count += 1\n",
    "\n",
    "            print()\n",
    "\n",
    "    def selecionaProdutos(self):\n",
    "        i = len(self.tabela)-1\n",
    "        j = len(self.tabela[i]['pesos'])-1\n",
    "        \n",
    "        while(i > 0 and self.capacidadeRestante > 0):\n",
    "            if self.tabela[i]['pesos'][j] != self.tabela[i-1]['pesos'][j]:\n",
    "                \n",
    "                self.produtosSelecionados.append( self.tabela[i]['produto'] )\n",
    "                self.capacidadeRestante -= self.tabela[i]['produto'].peso\n",
    "                self.lucro += self.tabela[i]['produto'].valor\n",
    "\n",
    "                j = j - self.tabela[i]['produto'].peso\n",
    "            i = i - 1\n",
    "\n",
    "    def contaUnidades(self):\n",
    "        jaContados = []\n",
    "        resultados = []\n",
    "        \n",
    "        for i in range(0, len(self.produtosSelecionados)):\n",
    "\n",
    "            if (self.produtosSelecionados[i].nome in jaContados) == False:\n",
    "                \n",
    "                novo = {\"nome\": self.produtosSelecionados[i].nome, \"qnt\": 1}\n",
    "                \n",
    "                jaContados.append(self.produtosSelecionados[i].nome)\n",
    "                \n",
    "                for j in range(i+1, len(self.produtosSelecionados)):\n",
    "                    if self.produtosSelecionados[j].nome == self.produtosSelecionados[i].nome:\n",
    "                        novo['qnt'] += 1\n",
    "                \n",
    "                resultados.append(novo)\n",
    "        \n",
    "        print()\n",
    "        for k in resultados:\n",
    "            print(f\"Produto {k['nome']} com {k['qnt']} unidades\")\n",
    "        \n",
    "    def apresentaResultados(self):\n",
    "        print('\\nProdutos Selecionados:')\n",
    "        for i in self.produtosSelecionados:\n",
    "            print(f'Nome: {i.nome}; Valor: {i.valor}; Peso: {i.peso}')\n",
    "        \n",
    "        self.contaUnidades()\n",
    "\n",
    "        print(f'\\nLucro:..................{self.lucro}')\n",
    "        print(f'Peso Total:.............{self.capacidade - self.capacidadeRestante}')\n",
    "        print(f'Capacidade Restante:....{self.capacidadeRestante}\\n')"
   ]
  },
  {
   "cell_type": "markdown",
   "id": "756ba127",
   "metadata": {},
   "source": [
    "## Testes"
   ]
  },
  {
   "cell_type": "code",
   "execution_count": 10,
   "id": "39056051",
   "metadata": {},
   "outputs": [
    {
     "name": "stdout",
     "output_type": "stream",
     "text": [
      "\n",
      "Produtos Selecionados:\n",
      "Nome: 4; Valor: 10; Peso: 8\n",
      "Nome: 2; Valor: 5; Peso: 3\n",
      "\n",
      "Produto 4 com 1 unidades\n",
      "Produto 2 com 1 unidades\n",
      "\n",
      "Lucro:..................15\n",
      "Peso Total:.............11\n",
      "Capacidade Restante:....0\n",
      "\n",
      "Valores na tabela:\n",
      "    |  0  |  1  |  2  |  3  |  4  |  5  |  6  |  7  |  8  |  9  |  10  |  11  |\n",
      "0   |  0  |  0  |  0  |  0  |  0  |  0  |  0  |  0  |  0  |  0  |  0   |  0   |\n",
      "1   |  0  |  1  |  1  |  1  |  1  |  1  |  1  |  1  |  1  |  1  |  1   |  1   |\n",
      "3   |  0  |  1  |  1  |  5  |  6  |  6  |  6  |  6  |  6  |  6  |  6   |  6   |\n",
      "5   |  0  |  1  |  1  |  5  |  6  |  8  |  9  |  9  |  13 |  14 |  14  |  14  |\n",
      "8   |  0  |  1  |  1  |  5  |  6  |  8  |  9  |  9  |  13 |  14 |  14  |  15  |\n"
     ]
    }
   ],
   "source": [
    "mochila = Mochila(capacidade=11)\n",
    "\n",
    "mochila.adicionaProduto(Produto(peso=1, valor=1, nome=1))\n",
    "mochila.adicionaProduto(Produto(peso=8, valor=10,nome=4))\n",
    "mochila.adicionaProduto(Produto(peso=3, valor=5, nome=2))\n",
    "mochila.adicionaProduto(Produto(peso=5, valor=8, nome=3))\n",
    "    \n",
    "mochila.sequencia()\n",
    "mochila.apresentaTabela()"
   ]
  },
  {
   "cell_type": "code",
   "execution_count": 11,
   "id": "f1ba33b9",
   "metadata": {},
   "outputs": [
    {
     "name": "stdout",
     "output_type": "stream",
     "text": [
      "\n",
      "Produtos Selecionados:\n",
      "Nome: 3; Valor: 9; Peso: 6\n",
      "Nome: 2; Valor: 6; Peso: 3\n",
      "\n",
      "Produto 3 com 1 unidades\n",
      "Produto 2 com 1 unidades\n",
      "\n",
      "Lucro:..................15\n",
      "Peso Total:.............9\n",
      "Capacidade Restante:....1\n",
      "\n"
     ]
    }
   ],
   "source": [
    "mochilaSlide = Mochila(capacidade=10)\n",
    "\n",
    "mochilaSlide.adicionaProduto( Produto(peso=2, valor=3, nome=1) )\n",
    "mochilaSlide.adicionaProduto( Produto(peso=3, valor=6, nome=2) )\n",
    "mochilaSlide.adicionaProduto( Produto(peso=6, valor=9, nome=3) )\n",
    "\n",
    "mochilaSlide.sequencia()"
   ]
  },
  {
   "cell_type": "markdown",
   "id": "b27b8365",
   "metadata": {},
   "source": [
    "---\n",
    "!['imagem;'](./image2.png)"
   ]
  },
  {
   "cell_type": "code",
   "execution_count": 16,
   "id": "d1906836",
   "metadata": {},
   "outputs": [
    {
     "name": "stdout",
     "output_type": "stream",
     "text": [
      "\n",
      "Produtos Selecionados:\n",
      "Nome: 2; Valor: 100; Peso: 5\n",
      "Nome: 2; Valor: 100; Peso: 5\n",
      "Nome: 3; Valor: 50; Peso: 2\n",
      "Nome: 3; Valor: 50; Peso: 2\n",
      "Nome: 3; Valor: 50; Peso: 2\n",
      "Nome: 3; Valor: 50; Peso: 2\n",
      "Nome: 3; Valor: 50; Peso: 2\n",
      "\n",
      "Produto 2 com 2 unidades\n",
      "Produto 3 com 5 unidades\n",
      "\n",
      "Lucro:..................450\n",
      "Peso Total:.............20\n",
      "Capacidade Restante:....0\n",
      "\n"
     ]
    }
   ],
   "source": [
    "mochila2 = Mochila(capacidade=20)\n",
    "\n",
    "mochila2.adicionaProduto( Produto(peso=3, valor=40, nome=1, qnt=3) )\n",
    "mochila2.adicionaProduto( Produto(peso=5, valor=100, nome=2, qnt=2) )\n",
    "mochila2.adicionaProduto( Produto(peso=2, valor=50, nome=3, qnt=5) )\n",
    "\n",
    "mochila2.sequencia()\n",
    "#mochila2.apresentaTabela()\n"
   ]
  },
  {
   "cell_type": "code",
   "execution_count": 13,
   "id": "b698fb55",
   "metadata": {},
   "outputs": [
    {
     "name": "stdout",
     "output_type": "stream",
     "text": [
      "\n",
      "Produtos Selecionados:\n",
      "Nome: 5; Valor: 9; Peso: 6\n",
      "Nome: 2; Valor: 6; Peso: 3\n",
      "\n",
      "Produto 5 com 1 unidades\n",
      "Produto 2 com 1 unidades\n",
      "\n",
      "Lucro:..................15\n",
      "Peso Total:.............9\n",
      "Capacidade Restante:....1\n",
      "\n"
     ]
    }
   ],
   "source": [
    "mochila3 = Mochila(10)\n",
    "\n",
    "mochila3.adicionaProduto(Produto(peso=2, valor=3, nome=1))\n",
    "mochila3.adicionaProduto(Produto(peso=3, valor=6, nome=2))\n",
    "mochila3.adicionaProduto(Produto(peso=6, valor=9, nome=5))\n",
    "\n",
    "mochila3.sequencia()"
   ]
  },
  {
   "cell_type": "code",
   "execution_count": 14,
   "id": "362d907c",
   "metadata": {},
   "outputs": [
    {
     "name": "stdout",
     "output_type": "stream",
     "text": [
      "\n",
      "Produtos Selecionados:\n",
      "Nome: 2; Valor: 100; Peso: 5\n",
      "Nome: 2; Valor: 100; Peso: 5\n",
      "Nome: 3; Valor: 50; Peso: 2\n",
      "Nome: 3; Valor: 50; Peso: 2\n",
      "Nome: 3; Valor: 50; Peso: 2\n",
      "Nome: 3; Valor: 50; Peso: 2\n",
      "Nome: 3; Valor: 50; Peso: 2\n",
      "\n",
      "Produto 2 com 2 unidades\n",
      "Produto 3 com 5 unidades\n",
      "\n",
      "Lucro:..................450\n",
      "Peso Total:.............20\n",
      "Capacidade Restante:....0\n",
      "\n"
     ]
    }
   ],
   "source": [
    "mochila4 = Mochila(20)\n",
    "\n",
    "mochila4.adicionaProduto(Produto(peso=3, valor=40, nome=1, qnt=3))\n",
    "mochila4.adicionaProduto(Produto(peso=5, valor=100, nome=2, qnt=2))\n",
    "mochila4.adicionaProduto(Produto(peso=2, valor=50, nome=3, qnt=5))\n",
    "\n",
    "mochila4.sequencia()"
   ]
  },
  {
   "cell_type": "code",
   "execution_count": null,
   "id": "7bc1ade3",
   "metadata": {},
   "outputs": [],
   "source": []
  }
 ],
 "metadata": {
  "kernelspec": {
   "display_name": "Python 3 (ipykernel)",
   "language": "python",
   "name": "python3"
  },
  "language_info": {
   "codemirror_mode": {
    "name": "ipython",
    "version": 3
   },
   "file_extension": ".py",
   "mimetype": "text/x-python",
   "name": "python",
   "nbconvert_exporter": "python",
   "pygments_lexer": "ipython3",
   "version": "3.8.10"
  }
 },
 "nbformat": 4,
 "nbformat_minor": 5
}
